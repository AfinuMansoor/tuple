{
  "nbformat": 4,
  "nbformat_minor": 0,
  "metadata": {
    "colab": {
      "provenance": []
    },
    "kernelspec": {
      "name": "python3",
      "display_name": "Python 3"
    },
    "language_info": {
      "name": "python"
    }
  },
  "cells": [
    {
      "cell_type": "markdown",
      "source": [
        "# **Tuple**"
      ],
      "metadata": {
        "id": "CsE7V4DNRkYU"
      }
    },
    {
      "cell_type": "markdown",
      "source": [
        "collection of data separated by comma declared inside paranthesis ( )"
      ],
      "metadata": {
        "id": "KwbGEziYXnFe"
      }
    },
    {
      "cell_type": "code",
      "source": [
        "a=( ) # empty tuple\n",
        "\n",
        "a1= (1,2,3,4) # tuple with int numbers (Homogeneous Tuple)\n",
        "\n",
        "a2= (1.2,3.4,5.6,7.8) # tuple with float numbers (Homogeneous Tuple)\n",
        "\n",
        "a3= ('1','a','b') # tuple with strings (Homogeneous Tuple)\n",
        "\n",
        "a4= (\"disco\",10,1.2) # tuple with distinct data types (Heterogeneous Tuple)\n",
        "\n",
        "a5=(1,2,3.6,7,('a',5,8.9)) # nested tuple"
      ],
      "metadata": {
        "id": "dId9bel-ShUy"
      },
      "execution_count": null,
      "outputs": []
    },
    {
      "cell_type": "code",
      "source": [
        "a5=(1,2,3.6,7,('a',5,8.9)) # nested tuple"
      ],
      "metadata": {
        "id": "DNtGRlvqTT2i"
      },
      "execution_count": null,
      "outputs": []
    },
    {
      "cell_type": "code",
      "source": [
        "#indexing\n",
        "a5[3]"
      ],
      "metadata": {
        "colab": {
          "base_uri": "https://localhost:8080/"
        },
        "id": "Ngyv40GETtZ9",
        "outputId": "513e9e98-9968-40b7-b645-fd7d1f1391a8"
      },
      "execution_count": null,
      "outputs": [
        {
          "output_type": "execute_result",
          "data": {
            "text/plain": [
              "7"
            ]
          },
          "metadata": {},
          "execution_count": 7
        }
      ]
    },
    {
      "cell_type": "code",
      "source": [
        "a5[4]"
      ],
      "metadata": {
        "colab": {
          "base_uri": "https://localhost:8080/"
        },
        "id": "0YXCb_8mUJxe",
        "outputId": "80d41878-272a-4ef0-acaf-f1d845f4ce80"
      },
      "execution_count": null,
      "outputs": [
        {
          "output_type": "execute_result",
          "data": {
            "text/plain": [
              "('a', 5, 8.9)"
            ]
          },
          "metadata": {},
          "execution_count": 10
        }
      ]
    },
    {
      "cell_type": "code",
      "source": [
        "a5[4][1]"
      ],
      "metadata": {
        "colab": {
          "base_uri": "https://localhost:8080/"
        },
        "id": "1N2ZgwR7UPgo",
        "outputId": "7487d31b-5210-4475-bac7-ecbdef2c3648"
      },
      "execution_count": null,
      "outputs": [
        {
          "output_type": "execute_result",
          "data": {
            "text/plain": [
              "5"
            ]
          },
          "metadata": {},
          "execution_count": 11
        }
      ]
    },
    {
      "cell_type": "code",
      "source": [
        "#slicing\n",
        "a5[2:4]"
      ],
      "metadata": {
        "colab": {
          "base_uri": "https://localhost:8080/"
        },
        "id": "ENi9n0cLTxRy",
        "outputId": "e0f8a147-dfb4-41d6-d7b1-848b0b62be37"
      },
      "execution_count": null,
      "outputs": [
        {
          "output_type": "execute_result",
          "data": {
            "text/plain": [
              "(3.6, 7)"
            ]
          },
          "metadata": {},
          "execution_count": 8
        }
      ]
    },
    {
      "cell_type": "code",
      "source": [
        "#stride\n",
        "a5[0:5:2]"
      ],
      "metadata": {
        "colab": {
          "base_uri": "https://localhost:8080/"
        },
        "id": "rs7_yD8qT3_L",
        "outputId": "dd4dfd5d-81fb-4d22-d0df-a7b952fbaa62"
      },
      "execution_count": null,
      "outputs": [
        {
          "output_type": "execute_result",
          "data": {
            "text/plain": [
              "(1, 3.6, ('a', 5, 8.9))"
            ]
          },
          "metadata": {},
          "execution_count": 9
        }
      ]
    },
    {
      "cell_type": "code",
      "source": [
        "#nested tuple\n",
        "nested=(1,2,(\"pop\",\"rock\"),(3,4),(\"disco\",(1,2)))"
      ],
      "metadata": {
        "id": "_Jpse_SbVJWZ"
      },
      "execution_count": null,
      "outputs": []
    },
    {
      "cell_type": "code",
      "source": [
        "#accessing letter 's' from disco\n",
        "nested[4][0][2]"
      ],
      "metadata": {
        "colab": {
          "base_uri": "https://localhost:8080/",
          "height": 36
        },
        "id": "55YNWPL1VgfC",
        "outputId": "6b6f7738-a435-4c8f-92b3-e5f7abbebf08"
      },
      "execution_count": null,
      "outputs": [
        {
          "output_type": "execute_result",
          "data": {
            "text/plain": [
              "'s'"
            ],
            "application/vnd.google.colaboratory.intrinsic+json": {
              "type": "string"
            }
          },
          "metadata": {},
          "execution_count": 15
        }
      ]
    },
    {
      "cell_type": "code",
      "source": [
        "l=[2,3,4,5,'a',9.8]"
      ],
      "metadata": {
        "id": "dwYRn1i4WDNm"
      },
      "execution_count": null,
      "outputs": []
    },
    {
      "cell_type": "code",
      "source": [
        "#list allowing to add data\n",
        "l.append(30)\n",
        "l"
      ],
      "metadata": {
        "colab": {
          "base_uri": "https://localhost:8080/"
        },
        "id": "bZvK9bD4WUrj",
        "outputId": "22b61372-f1ba-4968-ab66-d6afb440bda4"
      },
      "execution_count": null,
      "outputs": [
        {
          "output_type": "execute_result",
          "data": {
            "text/plain": [
              "[2, 3, 4, 5, 'a', 9.8, 30]"
            ]
          },
          "metadata": {},
          "execution_count": 26
        }
      ]
    },
    {
      "cell_type": "code",
      "source": [
        "#tuple is not allowing to add data\n",
        "l1=(2,3,4,5,'a',9.8)\n",
        "l1.append(30)\n",
        "l1"
      ],
      "metadata": {
        "colab": {
          "base_uri": "https://localhost:8080/",
          "height": 193
        },
        "id": "W8bYnps7W6BJ",
        "outputId": "6f3dcd5c-d2c2-4591-fd3b-04d0341ede2a"
      },
      "execution_count": null,
      "outputs": [
        {
          "output_type": "error",
          "ename": "AttributeError",
          "evalue": "'tuple' object has no attribute 'append'",
          "traceback": [
            "\u001b[0;31m---------------------------------------------------------------------------\u001b[0m",
            "\u001b[0;31mAttributeError\u001b[0m                            Traceback (most recent call last)",
            "\u001b[0;32m<ipython-input-22-337cb257ea9d>\u001b[0m in \u001b[0;36m<cell line: 3>\u001b[0;34m()\u001b[0m\n\u001b[1;32m      1\u001b[0m \u001b[0;31m#tuple is not allowing to add data\u001b[0m\u001b[0;34m\u001b[0m\u001b[0;34m\u001b[0m\u001b[0m\n\u001b[1;32m      2\u001b[0m \u001b[0ml1\u001b[0m\u001b[0;34m=\u001b[0m\u001b[0;34m(\u001b[0m\u001b[0;36m2\u001b[0m\u001b[0;34m,\u001b[0m\u001b[0;36m3\u001b[0m\u001b[0;34m,\u001b[0m\u001b[0;36m4\u001b[0m\u001b[0;34m,\u001b[0m\u001b[0;36m5\u001b[0m\u001b[0;34m,\u001b[0m\u001b[0;34m'a'\u001b[0m\u001b[0;34m,\u001b[0m\u001b[0;36m9.8\u001b[0m\u001b[0;34m)\u001b[0m\u001b[0;34m\u001b[0m\u001b[0;34m\u001b[0m\u001b[0m\n\u001b[0;32m----> 3\u001b[0;31m \u001b[0ml1\u001b[0m\u001b[0;34m.\u001b[0m\u001b[0mappend\u001b[0m\u001b[0;34m(\u001b[0m\u001b[0;36m30\u001b[0m\u001b[0;34m)\u001b[0m\u001b[0;34m\u001b[0m\u001b[0;34m\u001b[0m\u001b[0m\n\u001b[0m\u001b[1;32m      4\u001b[0m \u001b[0ml1\u001b[0m\u001b[0;34m\u001b[0m\u001b[0;34m\u001b[0m\u001b[0m\n",
            "\u001b[0;31mAttributeError\u001b[0m: 'tuple' object has no attribute 'append'"
          ]
        }
      ]
    },
    {
      "cell_type": "code",
      "source": [
        "l.extend([4,5])\n",
        "l"
      ],
      "metadata": {
        "colab": {
          "base_uri": "https://localhost:8080/"
        },
        "id": "07C-yRSLXXyU",
        "outputId": "4e9f743b-fa5e-4410-9163-fdcaa2fe2f27"
      },
      "execution_count": null,
      "outputs": [
        {
          "output_type": "execute_result",
          "data": {
            "text/plain": [
              "[2, 3, 4, 5, 'a', 9.8, 30, 4, 5]"
            ]
          },
          "metadata": {},
          "execution_count": 27
        }
      ]
    },
    {
      "cell_type": "code",
      "source": [
        "l[2]"
      ],
      "metadata": {
        "colab": {
          "base_uri": "https://localhost:8080/"
        },
        "id": "5P4Cx6hKYkaN",
        "outputId": "86278ee9-8af6-4906-a65a-28114057563f"
      },
      "execution_count": null,
      "outputs": [
        {
          "output_type": "execute_result",
          "data": {
            "text/plain": [
              "4"
            ]
          },
          "metadata": {},
          "execution_count": 28
        }
      ]
    },
    {
      "cell_type": "code",
      "source": [
        "#list is mutable data type\n",
        "l[2]=90\n",
        "l"
      ],
      "metadata": {
        "colab": {
          "base_uri": "https://localhost:8080/"
        },
        "id": "H9MZdG2mYtR7",
        "outputId": "92ab2cb2-779d-47bf-8131-07b08d8f9c6b"
      },
      "execution_count": null,
      "outputs": [
        {
          "output_type": "execute_result",
          "data": {
            "text/plain": [
              "[2, 3, 90, 5, 'a', 9.8, 30, 4, 5]"
            ]
          },
          "metadata": {},
          "execution_count": 29
        }
      ]
    },
    {
      "cell_type": "code",
      "source": [
        "#tuple is immutable\n",
        "l1[2]=90"
      ],
      "metadata": {
        "colab": {
          "base_uri": "https://localhost:8080/",
          "height": 141
        },
        "id": "Uf78lhABZCvH",
        "outputId": "a4958cb8-e2cd-4130-cb1f-168eda228477"
      },
      "execution_count": null,
      "outputs": [
        {
          "output_type": "error",
          "ename": "TypeError",
          "evalue": "'tuple' object does not support item assignment",
          "traceback": [
            "\u001b[0;31m---------------------------------------------------------------------------\u001b[0m",
            "\u001b[0;31mTypeError\u001b[0m                                 Traceback (most recent call last)",
            "\u001b[0;32m<ipython-input-30-ce5b853b5697>\u001b[0m in \u001b[0;36m<cell line: 1>\u001b[0;34m()\u001b[0m\n\u001b[0;32m----> 1\u001b[0;31m \u001b[0ml1\u001b[0m\u001b[0;34m[\u001b[0m\u001b[0;36m2\u001b[0m\u001b[0;34m]\u001b[0m\u001b[0;34m=\u001b[0m\u001b[0;36m90\u001b[0m\u001b[0;34m\u001b[0m\u001b[0;34m\u001b[0m\u001b[0m\n\u001b[0m",
            "\u001b[0;31mTypeError\u001b[0m: 'tuple' object does not support item assignment"
          ]
        }
      ]
    },
    {
      "cell_type": "markdown",
      "source": [
        "# **converting list to tuple**"
      ],
      "metadata": {
        "id": "cqyDQgfaaf_v"
      }
    },
    {
      "cell_type": "markdown",
      "source": [
        "type casting: converting one data type to another"
      ],
      "metadata": {
        "id": "7ejBtCKbanb_"
      }
    },
    {
      "cell_type": "code",
      "source": [
        "int(input(\"enter a number:\"))"
      ],
      "metadata": {
        "colab": {
          "base_uri": "https://localhost:8080/"
        },
        "id": "0DBYxy1IaU_G",
        "outputId": "496b6f60-f3d2-468f-a9e4-745227e53138"
      },
      "execution_count": null,
      "outputs": [
        {
          "name": "stdout",
          "output_type": "stream",
          "text": [
            "enter a number:7\n"
          ]
        },
        {
          "output_type": "execute_result",
          "data": {
            "text/plain": [
              "7"
            ]
          },
          "metadata": {},
          "execution_count": 31
        }
      ]
    },
    {
      "cell_type": "code",
      "source": [
        "L=[2,3.4,'A']"
      ],
      "metadata": {
        "id": "6ftbOOWca4p7"
      },
      "execution_count": null,
      "outputs": []
    },
    {
      "cell_type": "code",
      "source": [
        "type(L)"
      ],
      "metadata": {
        "colab": {
          "base_uri": "https://localhost:8080/"
        },
        "id": "79Sx9FtqbDDu",
        "outputId": "f5937a0b-7ec0-4665-9642-9e4b901ef1ca"
      },
      "execution_count": null,
      "outputs": [
        {
          "output_type": "execute_result",
          "data": {
            "text/plain": [
              "list"
            ]
          },
          "metadata": {},
          "execution_count": 33
        }
      ]
    },
    {
      "cell_type": "code",
      "source": [
        "tuple(L)"
      ],
      "metadata": {
        "colab": {
          "base_uri": "https://localhost:8080/"
        },
        "id": "U0WxBLJmbF8k",
        "outputId": "c457af9b-381b-467e-dd7c-0705b7cc2faf"
      },
      "execution_count": null,
      "outputs": [
        {
          "output_type": "execute_result",
          "data": {
            "text/plain": [
              "(2, 3.4, 'A')"
            ]
          },
          "metadata": {},
          "execution_count": 34
        }
      ]
    },
    {
      "cell_type": "code",
      "source": [
        "tuple([3,4,5,6,7])"
      ],
      "metadata": {
        "colab": {
          "base_uri": "https://localhost:8080/"
        },
        "id": "gbHYJ99-bN-N",
        "outputId": "86437961-845b-457e-e322-fe3f89edb252"
      },
      "execution_count": null,
      "outputs": [
        {
          "output_type": "execute_result",
          "data": {
            "text/plain": [
              "(3, 4, 5, 6, 7)"
            ]
          },
          "metadata": {},
          "execution_count": 35
        }
      ]
    },
    {
      "cell_type": "code",
      "source": [
        "float(9)"
      ],
      "metadata": {
        "colab": {
          "base_uri": "https://localhost:8080/"
        },
        "id": "LNVwVMddbb_N",
        "outputId": "fcabe048-a1d2-443c-8441-8d9379915ce2"
      },
      "execution_count": null,
      "outputs": [
        {
          "output_type": "execute_result",
          "data": {
            "text/plain": [
              "9.0"
            ]
          },
          "metadata": {},
          "execution_count": 36
        }
      ]
    },
    {
      "cell_type": "markdown",
      "source": [
        "# **Concatenation and Repetition**"
      ],
      "metadata": {
        "id": "0MciF7_0X73Y"
      }
    },
    {
      "cell_type": "code",
      "source": [
        "# Concatenation\n",
        "tuple1 = (1, 2)\n",
        "tuple2 = (3, 4)\n",
        "new_tuple = tuple1 + tuple2\n",
        "print(new_tuple)  # Output: (1, 2, 3, 4)\n",
        "\n",
        "# Repetition\n",
        "repeated_tuple = tuple1 * 3\n",
        "print(repeated_tuple)  # Output: (1, 2, 1, 2, 1, 2)"
      ],
      "metadata": {
        "colab": {
          "base_uri": "https://localhost:8080/"
        },
        "id": "u3ExhCLwYAAG",
        "outputId": "c9d29a5f-f24a-4a76-ce37-9149c8005bfd"
      },
      "execution_count": null,
      "outputs": [
        {
          "output_type": "stream",
          "name": "stdout",
          "text": [
            "(1, 2, 3, 4)\n",
            "(1, 2, 1, 2, 1, 2)\n"
          ]
        }
      ]
    },
    {
      "cell_type": "markdown",
      "source": [
        "# **Membership Testing**"
      ],
      "metadata": {
        "id": "BCvPx8LFYHaL"
      }
    },
    {
      "cell_type": "code",
      "source": [
        "# Check if an element exists in a tuple\n",
        "my_tuple = (1, 2, 3, 4)\n",
        "print(3 in my_tuple)   # Output: True\n",
        "print(5 in my_tuple)   # Output: False"
      ],
      "metadata": {
        "colab": {
          "base_uri": "https://localhost:8080/"
        },
        "id": "Pidbu05cYI9n",
        "outputId": "b098b1e4-da93-4810-9c59-c332bf239df4"
      },
      "execution_count": null,
      "outputs": [
        {
          "output_type": "stream",
          "name": "stdout",
          "text": [
            "True\n",
            "False\n"
          ]
        }
      ]
    },
    {
      "cell_type": "markdown",
      "source": [
        "# **Iterating Through a Tuple**"
      ],
      "metadata": {
        "id": "61JO5LDcYTKg"
      }
    },
    {
      "cell_type": "code",
      "source": [
        "# Using a for loop\n",
        "my_tuple = (1, 2, 3)\n",
        "for item in my_tuple:\n",
        "    print(item)  # Output: 1, 2, 3 (on separate lines)\n",
        "\n",
        "# Using while loop\n",
        "i = 0\n",
        "while i < len(my_tuple):\n",
        "    print(my_tuple[i])  # Output: 1, 2, 3 (on separate lines)\n",
        "    i += 1\n"
      ],
      "metadata": {
        "colab": {
          "base_uri": "https://localhost:8080/"
        },
        "id": "quqfANmpYVjG",
        "outputId": "c87b8a13-0cfe-42c7-83b7-27073c30989b"
      },
      "execution_count": null,
      "outputs": [
        {
          "output_type": "stream",
          "name": "stdout",
          "text": [
            "1\n",
            "2\n",
            "3\n",
            "1\n",
            "2\n",
            "3\n"
          ]
        }
      ]
    },
    {
      "cell_type": "markdown",
      "source": [
        "# **Tuple Length**"
      ],
      "metadata": {
        "id": "fg06eN89Yhib"
      }
    },
    {
      "cell_type": "code",
      "source": [
        "# Finding the length of a tuple\n",
        "my_tuple = (1, 2, 3, 4)\n",
        "print(len(my_tuple))  # Output: 4"
      ],
      "metadata": {
        "colab": {
          "base_uri": "https://localhost:8080/"
        },
        "id": "P1RFV-WdYjAO",
        "outputId": "742ff96c-7515-4bdd-9677-f6d8f1cdd073"
      },
      "execution_count": null,
      "outputs": [
        {
          "output_type": "stream",
          "name": "stdout",
          "text": [
            "4\n"
          ]
        }
      ]
    },
    {
      "cell_type": "markdown",
      "source": [
        "# **Tuple Index and Count**\n"
      ],
      "metadata": {
        "id": "IKvXpWz9YpIn"
      }
    },
    {
      "cell_type": "code",
      "source": [
        "# Finding the index of an element\n",
        "my_tuple = (1, 2, 3, 2, 4)\n",
        "print(my_tuple.index(2))  # Output: 1 (first occurrence of 2)\n",
        "\n",
        "# Counting occurrences of an element\n",
        "print(my_tuple.count(2))  # Output: 2 (2 appears twice)\n"
      ],
      "metadata": {
        "colab": {
          "base_uri": "https://localhost:8080/"
        },
        "id": "wCMKycIvYrk2",
        "outputId": "c63488d3-51dc-42b2-8d20-2a0457226b41"
      },
      "execution_count": null,
      "outputs": [
        {
          "output_type": "stream",
          "name": "stdout",
          "text": [
            "1\n",
            "2\n"
          ]
        }
      ]
    },
    {
      "cell_type": "markdown",
      "source": [
        "# **Tuple Packing and Unpacking**"
      ],
      "metadata": {
        "id": "gp2KF1ZQY25E"
      }
    },
    {
      "cell_type": "code",
      "source": [
        "# Tuple packing\n",
        "packed_tuple = 10, 20, 30\n",
        "print(packed_tuple)  # Output: (10, 20, 30)\n",
        "\n",
        "# Tuple unpacking\n",
        "a, b, c = packed_tuple\n",
        "print(a, b, c)  # Output: 10 20 30\n",
        "\n",
        "# Using * for unpacking\n",
        "my_tuple = (1, 2, 3, 4, 5)\n",
        "first, *middle, last = my_tuple\n",
        "print(first)   # Output: 1\n",
        "print(middle)  # Output: [2, 3, 4]\n",
        "print(last)    # Output: 5\n"
      ],
      "metadata": {
        "colab": {
          "base_uri": "https://localhost:8080/"
        },
        "id": "rfwCj1OWY5d2",
        "outputId": "1305915e-8569-4f2c-a877-ec82451bb466"
      },
      "execution_count": null,
      "outputs": [
        {
          "output_type": "stream",
          "name": "stdout",
          "text": [
            "(10, 20, 30)\n",
            "10 20 30\n",
            "1\n",
            "[2, 3, 4]\n",
            "5\n"
          ]
        }
      ]
    },
    {
      "cell_type": "markdown",
      "source": [
        "# **Sorting and Reversing a Tuple**"
      ],
      "metadata": {
        "id": "1m1bBu22ZGev"
      }
    },
    {
      "cell_type": "code",
      "source": [
        "# Sorting a tuple\n",
        "my_tuple = (3, 1, 4, 2)\n",
        "sorted_tuple = tuple(sorted(my_tuple))\n",
        "print(sorted_tuple)  # Output: (1, 2, 3, 4)\n",
        "\n",
        "# Reversing a tuple\n",
        "reversed_tuple = my_tuple[::-1]\n",
        "print(reversed_tuple)  # Output: (2, 4, 1, 3)\n"
      ],
      "metadata": {
        "colab": {
          "base_uri": "https://localhost:8080/"
        },
        "id": "qmEP731eZJg-",
        "outputId": "d3745095-fca2-4420-f826-496ee1577036"
      },
      "execution_count": null,
      "outputs": [
        {
          "output_type": "stream",
          "name": "stdout",
          "text": [
            "(1, 2, 3, 4)\n",
            "(2, 4, 1, 3)\n"
          ]
        }
      ]
    },
    {
      "cell_type": "markdown",
      "source": [
        "# **Using Tuples as Dictionary Keys**"
      ],
      "metadata": {
        "id": "yE2rdNVOZPYv"
      }
    },
    {
      "cell_type": "code",
      "source": [
        "# Tuple as a dictionary key\n",
        "my_dict = {(1, 2): \"a\", (3, 4): \"b\"}\n",
        "print(my_dict[(1, 2)])  # Output: a\n"
      ],
      "metadata": {
        "colab": {
          "base_uri": "https://localhost:8080/"
        },
        "id": "31tkdq2FZQun",
        "outputId": "a8b20e03-1a89-4f57-efa2-9a3f6fdae507"
      },
      "execution_count": null,
      "outputs": [
        {
          "output_type": "stream",
          "name": "stdout",
          "text": [
            "a\n"
          ]
        }
      ]
    },
    {
      "cell_type": "markdown",
      "source": [
        "# **Tuple Methods**"
      ],
      "metadata": {
        "id": "qsFVWqZJZY8F"
      }
    },
    {
      "cell_type": "code",
      "source": [
        "# Tuples have only two built-in methods: count() and index()\n",
        "\n",
        "# count()\n",
        "my_tuple = (1, 2, 3, 2, 4)\n",
        "print(my_tuple.count(2))  # Output: 2 (2 appears twice)\n",
        "\n",
        "# index()\n",
        "print(my_tuple.index(3))  # Output: 2 (first occurrence of 3)\n"
      ],
      "metadata": {
        "colab": {
          "base_uri": "https://localhost:8080/"
        },
        "id": "yqWx-ic9ZZ9e",
        "outputId": "69d9a82b-700a-499b-f9f5-0cec9cb6b76d"
      },
      "execution_count": null,
      "outputs": [
        {
          "output_type": "stream",
          "name": "stdout",
          "text": [
            "2\n",
            "2\n"
          ]
        }
      ]
    }
  ]
}